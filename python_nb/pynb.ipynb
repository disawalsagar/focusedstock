{
 "cells": [
  {
   "cell_type": "code",
   "execution_count": null,
   "metadata": {},
   "outputs": [],
   "source": [
    "import pandas as pd\n",
    "import FundamentalAnalysis as fa\n",
    "import requests as rs"
   ]
  },
  {
   "cell_type": "code",
   "execution_count": null,
   "metadata": {},
   "outputs": [],
   "source": [
    "#read csv\n",
    "pd1 = pd.read_csv(r'C:\\Users\\sdisawal\\python_projects\\focusedstock\\data\\rbh.csv')\n",
    "#Api Keys for Fundamental \n",
    "api_key = \"9b3eb12c236953d7647d9a758a1a1637\"\n"
   ]
  },
  {
   "cell_type": "code",
   "execution_count": null,
   "metadata": {},
   "outputs": [],
   "source": [
    "# iterate over all the elements \n",
    "pd2 = pd1['Symbol']\n",
    "#.tolist()\n",
    "for counter, items in pd2.iteritems(): \n",
    "        print(items) \n"
   ]
  },
  {
   "cell_type": "code",
   "execution_count": null,
   "metadata": {},
   "outputs": [],
   "source": [
    "sx_appl = fa.quote(\"AAPL\",api_key)\n",
    "sx_oxy = fa.quote(\"OXY\",api_key)\n",
    "#balance_sheet_annually = fa.balance_sheet_statement(ticker, api_key, period=\"annual\")\n",
    "#balance_sheet_annually"
   ]
  },
  {
   "cell_type": "code",
   "execution_count": null,
   "metadata": {},
   "outputs": [],
   "source": [
    "sx_appl_t = sx_appl.T\n",
    "sx_oxy_t = sx_oxy.T\n",
    "sx_concat = sx_appl_t.append(sx_oxy_t, ignore_index=True)\n",
    "sx_concat.columns"
   ]
  },
  {
   "cell_type": "code",
   "execution_count": null,
   "metadata": {},
   "outputs": [],
   "source": [
    "import sys  \n",
    "sys.path.insert(0, r'C:\\Users\\sdisawal\\python_projects\\focusedstock\\alpha_vantage')\n",
    "from alpha_vantage.fundamentaldata import FundamentalData\n",
    "ALPHAVANTAGE_API_KEY = 'D7BM0YCB89NGB9NL'\n",
    "fd = FundamentalData(key=ALPHAVANTAGE_API_KEY, output_format='pandas')\n"
   ]
  },
  {
   "cell_type": "code",
   "execution_count": null,
   "metadata": {},
   "outputs": [],
   "source": [
    "data, metadata = fd.get_balance_sheet_annual(symbol='AAPL')\n"
   ]
  },
  {
   "cell_type": "code",
   "execution_count": null,
   "metadata": {},
   "outputs": [],
   "source": [
    "\n",
    "from alpha_vantage.timeseries import TimeSeries\n",
    "ALPHAVANTAGE_API_KEY = 'D7BM0YCB89NGB9NL'\n",
    "ts = TimeSeries(key=ALPHAVANTAGE_API_KEY, output_format='pandas')\n",
    "data, meta_data = ts.get_quote_endpoint('GOOGL')"
   ]
  },
  {
   "cell_type": "code",
   "execution_count": null,
   "metadata": {},
   "outputs": [],
   "source": [
    "data1 = pd.DataFrame()\n",
    "for counter, items in pd2.iteritems():\n",
    "    data, meta_data = ts.get_quote_endpoint(items)\n",
    "    data1.append(data)"
   ]
  },
  {
   "cell_type": "code",
   "execution_count": null,
   "metadata": {},
   "outputs": [],
   "source": [
    "from pandas_datareader import data\n",
    "aapl = data.DataReader(\"AAPL\",  \n",
    "                       data_source='yahoo')['Adj Close']"
   ]
  },
  {
   "cell_type": "code",
   "execution_count": null,
   "metadata": {},
   "outputs": [],
   "source": [
    "aapl"
   ]
  },
  {
   "cell_type": "code",
   "execution_count": null,
   "metadata": {},
   "outputs": [],
   "source": [
    "import yfinance as yf\n",
    "import datetime as dt\n",
    "\n"
   ]
  },
  {
   "cell_type": "code",
   "execution_count": null,
   "metadata": {},
   "outputs": [],
   "source": [
    "_start = dt.datetime.today() - dt.timedelta(1)\n",
    "_end = dt.datetime.today()\n",
    "_end\n"
   ]
  },
  {
   "cell_type": "code",
   "execution_count": null,
   "metadata": {},
   "outputs": [],
   "source": [
    "yf.download(tickers=pd2, start= _start, end =_end, auto_adjust = True)"
   ]
  },
  {
   "cell_type": "code",
   "execution_count": null,
   "metadata": {},
   "outputs": [],
   "source": [
    "# iterate over all the elements \n",
    "pd2 = pd1['Symbol']\n",
    "#.tolist()\n",
    "y = pd.DataFrame()\n",
    "for counter, item in pd2.iteritems(): \n",
    "        x = yf.download(item, start = dt.datetime.today())\n",
    "        x['Ticker'] = item\n",
    "        y = y.append(x)\n",
    "y\n"
   ]
  },
  {
   "cell_type": "code",
   "execution_count": 78,
   "metadata": {},
   "outputs": [
    {
     "ename": "NameError",
     "evalue": "name 'fromaddghgr' is not defined",
     "output_type": "error",
     "traceback": [
      "\u001b[1;31m---------------------------------------------------------------------------\u001b[0m",
      "\u001b[1;31mNameError\u001b[0m                                 Traceback (most recent call last)",
      "\u001b[1;32m<ipython-input-78-0b719a6cd967>\u001b[0m in \u001b[0;36m<module>\u001b[1;34m\u001b[0m\n\u001b[0;32m     31\u001b[0m \u001b[0mserver\u001b[0m\u001b[1;33m.\u001b[0m\u001b[0mstarttls\u001b[0m\u001b[1;33m(\u001b[0m\u001b[1;33m)\u001b[0m\u001b[1;33m\u001b[0m\u001b[1;33m\u001b[0m\u001b[0m\n\u001b[0;32m     32\u001b[0m \u001b[0mserver\u001b[0m\u001b[1;33m.\u001b[0m\u001b[0mlogin\u001b[0m\u001b[1;33m(\u001b[0m\u001b[0musername\u001b[0m\u001b[1;33m,\u001b[0m\u001b[0mpassword\u001b[0m\u001b[1;33m)\u001b[0m\u001b[1;33m\u001b[0m\u001b[1;33m\u001b[0m\u001b[0m\n\u001b[1;32m---> 33\u001b[1;33m \u001b[0mserver\u001b[0m\u001b[1;33m.\u001b[0m\u001b[0msendmail\u001b[0m\u001b[1;33m(\u001b[0m\u001b[0mfromaddghgr\u001b[0m\u001b[1;33m,\u001b[0m \u001b[0mtoaddrs\u001b[0m\u001b[1;33m,\u001b[0m \u001b[0mmessage\u001b[0m\u001b[1;33m.\u001b[0m\u001b[0mas_string\u001b[0m\u001b[1;33m(\u001b[0m\u001b[1;33m)\u001b[0m\u001b[1;33m)\u001b[0m\u001b[1;33m\u001b[0m\u001b[1;33m\u001b[0m\u001b[0m\n\u001b[0m\u001b[0;32m     34\u001b[0m \u001b[0mserver\u001b[0m\u001b[1;33m.\u001b[0m\u001b[0mquit\u001b[0m\u001b[1;33m(\u001b[0m\u001b[1;33m)\u001b[0m\u001b[1;33m\u001b[0m\u001b[1;33m\u001b[0m\u001b[0m\n\u001b[0;32m     35\u001b[0m \u001b[1;33m\u001b[0m\u001b[0m\n",
      "\u001b[1;31mNameError\u001b[0m: name 'fromaddghgr' is not defined"
     ]
    }
   ],
   "source": [
    "import smtplib\n",
    "from email.mime.text import MIMEText\n",
    "from email.mime.multipart import MIMEMultipart\n",
    "\n",
    "\n",
    "message = MIMEMultipart()\n",
    "message[\"Subject\"] = \"Daily Stock Update\"\n",
    "message[\"From\"] = 'sagardisa8@gmail.com'\n",
    "message[\"To\"] = 'sagardisa8@gmail.com'\n",
    "\n",
    "html = \"\"\"\\\n",
    "<html>\n",
    "  <body>\n",
    "    <p>Hi,<br>\n",
    "       {0}\n",
    "    </p>\n",
    "  </body>\n",
    "</html>\n",
    "\"\"\".format(y.to_html())\n",
    "# Turn these into plain/html MIMEText objects\n",
    "\n",
    "part = MIMEText(html, \"html\")\n",
    "\n",
    "# Add HTML/plain-text parts to MIMEMultipart message\n",
    "message.attach(part)\n",
    "\n",
    "username = 'sagardisa8@gmail.com'\n",
    "password = '1234567XZ@'\n",
    "server = smtplib.SMTP('smtp.gmail.com:587')\n",
    "server.ehlo()\n",
    "server.starttls()\n",
    "server.login(username,password)\n",
    "server.sendmail(fromaddr, toaddrs, message.as_string())\n",
    "server.quit()\n",
    "\n"
   ]
  },
  {
   "cell_type": "code",
   "execution_count": null,
   "metadata": {
    "scrolled": false
   },
   "outputs": [],
   "source": []
  }
 ],
 "metadata": {
  "kernelspec": {
   "display_name": "Python 3",
   "language": "python",
   "name": "python3"
  },
  "language_info": {
   "codemirror_mode": {
    "name": "ipython",
    "version": 3
   },
   "file_extension": ".py",
   "mimetype": "text/x-python",
   "name": "python",
   "nbconvert_exporter": "python",
   "pygments_lexer": "ipython3",
   "version": "3.7.9"
  },
  "name": "2020-09-12 - DBFS Example",
  "notebookId": 1820551709779350
 },
 "nbformat": 4,
 "nbformat_minor": 1
}
